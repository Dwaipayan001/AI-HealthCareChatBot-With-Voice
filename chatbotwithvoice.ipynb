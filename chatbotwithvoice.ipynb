{
 "cells": [
  {
   "cell_type": "code",
   "execution_count": null,
   "id": "6a03375e",
   "metadata": {},
   "outputs": [],
   "source": [
    "pip install tensorflow\n"
   ]
  },
  {
   "cell_type": "code",
   "execution_count": 7,
   "id": "181d1593",
   "metadata": {},
   "outputs": [],
   "source": [
    "import random\n",
    "import json\n",
    "import pickle\n",
    "\n",
    "import nltk\n",
    "from nltk.stem import WordNetLemmatizer\n",
    "from tensorflow.keras.models import load_model\n",
    "\n",
    "import numpy as np\n",
    "import speech_recognition as sr"
   ]
  },
  {
   "cell_type": "code",
   "execution_count": 8,
   "id": "fb218d07",
   "metadata": {},
   "outputs": [],
   "source": [
    "lemmatizer = WordNetLemmatizer()\n",
    "intents = json.loads(open(\"intents.json\").read())\n",
    "\n",
    "words = pickle.load(open('words.pkl','rb'))\n",
    "classes = pickle.load(open('classes.pkl','rb'))\n",
    "model = load_model('chatbot_model.h5')\n",
    "\n",
    "def clean_up_sentence(sentence):\n",
    "    sentence_words = nltk.word_tokenize(sentence) \n",
    "    sentence_words = [lemmatizer.lemmatize(word) for word in sentence_words]\n",
    "    \n",
    "    return sentence_words\n",
    "\n",
    "\n",
    "\n",
    "def bag_of_words(sentence):\n",
    "    sentence_words = clean_up_sentence(sentence)\n",
    "    bag = [0]*len(words)\n",
    "    \n",
    "    for w in sentence_words:\n",
    "        for i,word in enumerate(words):\n",
    "            if word == w:\n",
    "                bag[i]=1\n",
    "    return np.array(bag)\n",
    "\n",
    "\n",
    "def predict_class(sentence):\n",
    "    bow = bag_of_words(sentence)\n",
    "    res = model.predict(np.array([bow]))[0]\n",
    "    \n",
    "    ERROR_THRESHOLD = 0.25\n",
    "    \n",
    "    results = [[i,r] for i,r in enumerate(res) if r > ERROR_THRESHOLD]\n",
    "    \n",
    "    results.sort(key=lambda x:x[1],reverse=True)\n",
    "    \n",
    "    return_list  = []\n",
    "    \n",
    "    for r in results:\n",
    "        return_list.append({'intent':classes[r[0]],'probability' : str(r[1])})\n",
    "    return return_list"
   ]
  },
  {
   "cell_type": "code",
   "execution_count": 13,
   "id": "05602718",
   "metadata": {},
   "outputs": [
    {
     "name": "stdout",
     "output_type": "stream",
     "text": [
      "Bot is Running\n",
      "Say Your Symptoms\n",
      "Sorry couldn't understand that\n",
      "Bot has been stopped by the user\n"
     ]
    }
   ],
   "source": [
    "import speech_recognition as sr\n",
    "import pyttsx3\n",
    "\n",
    "def get_response(intents_list,intents_json):\n",
    "    tag = intents_list[0]['intent']\n",
    "    list_of_intents = intents_json['intents']\n",
    "    \n",
    "    for i in list_of_intents:\n",
    "        if i['tag'] == tag :\n",
    "            result = random.choice(i['responses'])\n",
    "            break\n",
    "    return result\n",
    "\n",
    "print(\"Bot is Running\")\n",
    "\n",
    "a = sr.Recognizer()\n",
    "mic = sr.Microphone()\n",
    "\n",
    "engine = pyttsx3.init()\n",
    "rate = engine.getProperty('rate')\n",
    "engine.setProperty('rate', 175)\n",
    "\n",
    "volume = engine.getProperty('volume')\n",
    "engine.setProperty('volume', 1.0)\n",
    "\n",
    "voices = engine.getProperty('voices')\n",
    "\n",
    "engine.say(\"HELLO USER ! I AM HCB , YOUR PERSONAL HEALTHCARE CHAT BOT . PLEASE TELL ME YOUR SYMPTOM\")\n",
    "engine.runAndWait()\n",
    "\n",
    "\n",
    "while True or final=='yes' or final=='YES' or final=='Yes':\n",
    "    with mic as source:\n",
    "        print(\"Say Your Symptoms\")\n",
    "        engine.say(\"You may tell me your symptoms now\")\n",
    "        engine.runAndWait()\n",
    "        try:\n",
    "            audio = a.listen(source)\n",
    "            text = a.recognize_google(audio)\n",
    "            engine.say(\"You said {}\".format(text))\n",
    "            engine.runAndWait()\n",
    "            ints = predict_class(text)\n",
    "            res = get_response(ints,intents)\n",
    "            engine.say(res)\n",
    "            engine.runAndWait()\n",
    "            print(\"You said : \" ,text)\n",
    "            print(\"Result : \", res)\n",
    "        except sr.UnknownValueError:\n",
    "            engine.say(\"Sorry I didn't understand your symptoms . Please tell me again\")\n",
    "            engine.runAndWait()\n",
    "            print(\"Sorry couldn't understand that\")\n",
    "        finally:    \n",
    "            engine.say(\"Do you want to Continue\")\n",
    "            engine.runAndWait()\n",
    "    \n",
    "    with mic as ans:\n",
    "        voice = a.listen(ans)\n",
    "        final = a.recognize_google(voice)\n",
    "\n",
    "    if final=='no':\n",
    "        engine.say(\"Thank You for using me . Exiting Now \")\n",
    "        engine.runAndWait()\n",
    "        print(\"Bot has been stopped by the user\")\n",
    "        break\n",
    "        \n",
    "        \n",
    "        "
   ]
  },
  {
   "cell_type": "code",
   "execution_count": null,
   "id": "e786651a",
   "metadata": {},
   "outputs": [],
   "source": []
  },
  {
   "cell_type": "code",
   "execution_count": 4,
   "id": "7d807ea6",
   "metadata": {},
   "outputs": [
    {
     "name": "stdout",
     "output_type": "stream",
     "text": [
      "Say anything\n",
      "You said -> hai\n"
     ]
    }
   ],
   "source": [
    "import speech_recognition as sr\n",
    "a = sr.Recognizer()\n",
    "mic = sr.Microphone()\n",
    "\n",
    "with mic as source:\n",
    "    print(\"Say anything\")\n",
    "    audio = a.listen(source)\n",
    "    \n",
    "    text = a.recognize_google(audio)\n",
    "    print(\"You said -> {}\".format(text))"
   ]
  },
  {
   "cell_type": "code",
   "execution_count": 4,
   "id": "d6b0e8d2",
   "metadata": {},
   "outputs": [
    {
     "name": "stdout",
     "output_type": "stream",
     "text": [
      "Collecting pyttsx3\n",
      "  Downloading pyttsx3-2.90-py3-none-any.whl (39 kB)\n",
      "Requirement already satisfied: pywin32 in c:\\users\\user\\anaconda3\\lib\\site-packages (from pyttsx3) (228)\n",
      "Requirement already satisfied: comtypes in c:\\users\\user\\anaconda3\\lib\\site-packages (from pyttsx3) (1.1.10)\n",
      "Collecting pypiwin32\n",
      "  Downloading pypiwin32-223-py3-none-any.whl (1.7 kB)\n",
      "Installing collected packages: pypiwin32, pyttsx3\n",
      "Successfully installed pypiwin32-223 pyttsx3-2.90\n",
      "Note: you may need to restart the kernel to use updated packages.\n"
     ]
    }
   ],
   "source": [
    "pip install pyttsx3"
   ]
  },
  {
   "cell_type": "code",
   "execution_count": null,
   "id": "d64732ea-0159-401b-8fbd-5aa581739457",
   "metadata": {},
   "outputs": [],
   "source": []
  }
 ],
 "metadata": {
  "kernelspec": {
   "display_name": "Python 3 (ipykernel)",
   "language": "python",
   "name": "python3"
  },
  "language_info": {
   "codemirror_mode": {
    "name": "ipython",
    "version": 3
   },
   "file_extension": ".py",
   "mimetype": "text/x-python",
   "name": "python",
   "nbconvert_exporter": "python",
   "pygments_lexer": "ipython3",
   "version": "3.9.7"
  }
 },
 "nbformat": 4,
 "nbformat_minor": 5
}
